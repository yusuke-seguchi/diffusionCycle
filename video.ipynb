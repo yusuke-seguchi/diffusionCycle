{
 "cells": [
  {
   "cell_type": "code",
   "execution_count": 4,
   "metadata": {},
   "outputs": [],
   "source": [
    "import numpy as np\n",
    "import matplotlib.pyplot as plt\n",
    "import os\n",
    "from natsort import natsorted\n",
    "import cv2\n",
    "from PIL import Image\n",
    "import glob"
   ]
  },
  {
   "cell_type": "code",
   "execution_count": 5,
   "metadata": {},
   "outputs": [],
   "source": [
    "tfilt = 2000\n",
    "timemax = 200000\n",
    "videotime = 5.\n",
    "fps = timemax/videotime/tfilt\n",
    "duration = 1/fps\n",
    "\n",
    "img_array=[]\n",
    "files =  natsorted(glob.glob(f\"./plot/*.png\"))\n",
    "for j in range(0, len(files)):\n",
    "    img = cv2.imread(files[j])\n",
    "    height, width, layers = img.shape\n",
    "    size = (width, height)\n",
    "    img_array.append(img)\n",
    "    \n",
    "name = f\"./video.mp4\" #完成した動画の名前\n",
    "out = cv2.VideoWriter(name, cv2.VideoWriter_fourcc('m','p','4','v'), fps, size)\n",
    "\n",
    "for j in range(len(img_array)):\n",
    "    out.write(img_array[j])\n",
    "out.release()\n",
    "\n",
    "\n",
    "#画像を箱に入れていく\n",
    "#画像を入れる箱を準備\n",
    "pictures=[]\n",
    "files =  natsorted(glob.glob(\"./plot/*.png\"))\n",
    "for n in range(len(files)):\n",
    "    img = Image.open(files[n])\n",
    "    pictures.append(img)\n",
    "#gifアニメを出力する\n",
    "pictures[0].save('./plot/plot.gif',save_all=True, append_images=pictures[1:],\n",
    "optimize=True, duration=duration, loop=0)"
   ]
  },
  {
   "cell_type": "code",
   "execution_count": null,
   "metadata": {},
   "outputs": [],
   "source": []
  }
 ],
 "metadata": {
  "kernelspec": {
   "display_name": "Python 3",
   "language": "python",
   "name": "python3"
  },
  "language_info": {
   "codemirror_mode": {
    "name": "ipython",
    "version": 3
   },
   "file_extension": ".py",
   "mimetype": "text/x-python",
   "name": "python",
   "nbconvert_exporter": "python",
   "pygments_lexer": "ipython3",
   "version": "3.10.4"
  },
  "orig_nbformat": 4
 },
 "nbformat": 4,
 "nbformat_minor": 2
}
